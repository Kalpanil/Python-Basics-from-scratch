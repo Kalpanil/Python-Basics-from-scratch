{
 "cells": [
  {
   "cell_type": "code",
   "execution_count": 1,
   "id": "e47dd6d0",
   "metadata": {},
   "outputs": [],
   "source": [
    "marks=[60,50,48,56]"
   ]
  },
  {
   "cell_type": "code",
   "execution_count": 2,
   "id": "fe7a8dc6",
   "metadata": {},
   "outputs": [
    {
     "data": {
      "text/plain": [
       "list"
      ]
     },
     "execution_count": 2,
     "metadata": {},
     "output_type": "execute_result"
    }
   ],
   "source": [
    "type(marks)"
   ]
  },
  {
   "cell_type": "code",
   "execution_count": 5,
   "id": "56233887",
   "metadata": {},
   "outputs": [
    {
     "data": {
      "text/plain": [
       "[60, 50, 48]"
      ]
     },
     "execution_count": 5,
     "metadata": {},
     "output_type": "execute_result"
    }
   ],
   "source": [
    "marks\n",
    "marks[0:3]"
   ]
  },
  {
   "cell_type": "code",
   "execution_count": 6,
   "id": "bf45af3b",
   "metadata": {},
   "outputs": [
    {
     "data": {
      "text/plain": [
       "214"
      ]
     },
     "execution_count": 6,
     "metadata": {},
     "output_type": "execute_result"
    }
   ],
   "source": [
    "sum(marks)"
   ]
  },
  {
   "cell_type": "code",
   "execution_count": 7,
   "id": "a1d32d4a",
   "metadata": {},
   "outputs": [
    {
     "data": {
      "text/plain": [
       "4"
      ]
     },
     "execution_count": 7,
     "metadata": {},
     "output_type": "execute_result"
    }
   ],
   "source": [
    "len(marks)"
   ]
  },
  {
   "cell_type": "code",
   "execution_count": 8,
   "id": "4e16006f",
   "metadata": {},
   "outputs": [
    {
     "data": {
      "text/plain": [
       "48"
      ]
     },
     "execution_count": 8,
     "metadata": {},
     "output_type": "execute_result"
    }
   ],
   "source": [
    "min(marks)"
   ]
  },
  {
   "cell_type": "code",
   "execution_count": 9,
   "id": "8efdd6d3",
   "metadata": {},
   "outputs": [
    {
     "data": {
      "text/plain": [
       "60"
      ]
     },
     "execution_count": 9,
     "metadata": {},
     "output_type": "execute_result"
    }
   ],
   "source": [
    "max(marks)"
   ]
  },
  {
   "cell_type": "code",
   "execution_count": 21,
   "id": "ae0840ac",
   "metadata": {},
   "outputs": [],
   "source": [
    "percentage= sum(marks)/(len(marks)*1)"
   ]
  },
  {
   "cell_type": "code",
   "execution_count": 22,
   "id": "b5770203",
   "metadata": {},
   "outputs": [
    {
     "name": "stdout",
     "output_type": "stream",
     "text": [
      "53.5\n"
     ]
    }
   ],
   "source": [
    "print(percentage)"
   ]
  },
  {
   "cell_type": "markdown",
   "id": "07523afc",
   "metadata": {},
   "source": [
    "list with in list\n"
   ]
  },
  {
   "cell_type": "code",
   "execution_count": 23,
   "id": "36a3aa9a",
   "metadata": {},
   "outputs": [],
   "source": [
    "list2=[[\"kalpanil\",2003],\n",
    "      [\"Kunal\",2004]]\n",
    "      "
   ]
  },
  {
   "cell_type": "code",
   "execution_count": 28,
   "id": "40791553",
   "metadata": {},
   "outputs": [
    {
     "name": "stdout",
     "output_type": "stream",
     "text": [
      "2003\n",
      "2004\n"
     ]
    }
   ],
   "source": [
    "for student in list2:\n",
    "    print(student[1])"
   ]
  },
  {
   "cell_type": "code",
   "execution_count": 29,
   "id": "947faf7a",
   "metadata": {},
   "outputs": [
    {
     "name": "stdout",
     "output_type": "stream",
     "text": [
      "['kalpanil', 2003]\n",
      "['Kunal', 2004]\n"
     ]
    }
   ],
   "source": [
    "for student in list2:\n",
    "    print(student)"
   ]
  },
  {
   "cell_type": "code",
   "execution_count": 30,
   "id": "e75cd972",
   "metadata": {},
   "outputs": [
    {
     "name": "stdout",
     "output_type": "stream",
     "text": [
      "kalpanil\n",
      "Kunal\n"
     ]
    }
   ],
   "source": [
    "for student in list2:\n",
    "    \n",
    "    print(student[0])"
   ]
  },
  {
   "cell_type": "code",
   "execution_count": 31,
   "id": "94f90cf5",
   "metadata": {},
   "outputs": [
    {
     "name": "stdout",
     "output_type": "stream",
     "text": [
      "4\n",
      "3\n",
      "2\n",
      "1\n"
     ]
    }
   ],
   "source": [
    "for i in [1,2,3,4][::-1]:\n",
    "    print(i)"
   ]
  },
  {
   "cell_type": "code",
   "execution_count": 32,
   "id": "7017af34",
   "metadata": {},
   "outputs": [
    {
     "name": "stdout",
     "output_type": "stream",
     "text": [
      "[4, 3]\n"
     ]
    }
   ],
   "source": [
    "list1=[1,3]\n",
    "list2= list1\n",
    "list1[0]=4\n",
    "print(list2)"
   ]
  },
  {
   "cell_type": "code",
   "execution_count": 34,
   "id": "562e640a",
   "metadata": {},
   "outputs": [
    {
     "name": "stdout",
     "output_type": "stream",
     "text": [
      "[5, 2, 3, 4, 1]\n"
     ]
    }
   ],
   "source": [
    "list1=[1,2,3,4,5]\n",
    "temp=list1[0]\n",
    "list1[0]=list1[4]\n",
    "list1[4]=temp\n",
    "print(list1)"
   ]
  },
  {
   "cell_type": "code",
   "execution_count": 35,
   "id": "488a5427",
   "metadata": {},
   "outputs": [
    {
     "data": {
      "text/plain": [
       "15"
      ]
     },
     "execution_count": 35,
     "metadata": {},
     "output_type": "execute_result"
    }
   ],
   "source": [
    "sum(list1)"
   ]
  },
  {
   "cell_type": "code",
   "execution_count": 36,
   "id": "20b2b3ad",
   "metadata": {},
   "outputs": [
    {
     "name": "stdout",
     "output_type": "stream",
     "text": [
      "120\n"
     ]
    }
   ],
   "source": [
    "pro=1\n",
    "for i in list1:\n",
    "    pro=pro*i\n",
    "print(pro)\n",
    "    "
   ]
  },
  {
   "cell_type": "code",
   "execution_count": 37,
   "id": "a25ef334",
   "metadata": {},
   "outputs": [
    {
     "data": {
      "text/plain": [
       "120"
      ]
     },
     "execution_count": 37,
     "metadata": {},
     "output_type": "execute_result"
    }
   ],
   "source": [
    "5*4*3*2*1"
   ]
  },
  {
   "cell_type": "code",
   "execution_count": 38,
   "id": "0c29ff31",
   "metadata": {},
   "outputs": [
    {
     "name": "stdout",
     "output_type": "stream",
     "text": [
      "45\n"
     ]
    }
   ],
   "source": [
    "list3=[15,7,22,45,10]\n",
    "x=max(list3)\n",
    "print(x)"
   ]
  },
  {
   "cell_type": "code",
   "execution_count": null,
   "id": "e1da0095",
   "metadata": {},
   "outputs": [],
   "source": []
  }
 ],
 "metadata": {
  "kernelspec": {
   "display_name": "Python 3 (ipykernel)",
   "language": "python",
   "name": "python3"
  },
  "language_info": {
   "codemirror_mode": {
    "name": "ipython",
    "version": 3
   },
   "file_extension": ".py",
   "mimetype": "text/x-python",
   "name": "python",
   "nbconvert_exporter": "python",
   "pygments_lexer": "ipython3",
   "version": "3.11.5"
  }
 },
 "nbformat": 4,
 "nbformat_minor": 5
}
